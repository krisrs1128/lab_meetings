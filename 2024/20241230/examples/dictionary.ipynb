{
 "cells": [
  {
   "cell_type": "code",
   "execution_count": 1,
   "metadata": {},
   "outputs": [],
   "source": [
    "from torchvision import transforms\n",
    "import glob\n",
    "import pathlib\n",
    "import torch\n",
    "import torch.utils.data as dt\n",
    "import torchvision"
   ]
  },
  {
   "cell_type": "code",
   "execution_count": null,
   "metadata": {},
   "outputs": [],
   "source": [
    "from datasets import load_dataset\n",
    "fw = load_dataset(\"HuggingFaceFW/fineweb-edu\", name=\"CC-MAIN-2024-10\", split=\"train\", streaming=True)"
   ]
  },
  {
   "cell_type": "code",
   "execution_count": null,
   "metadata": {},
   "outputs": [],
   "source": [
    "n_stream = 2500\n",
    "texts = []\n",
    "for x in fw:\n",
    "    texts.append(x[\"text\"])\n",
    "    if len(texts) > n_stream: break\n",
    "\n",
    "print(texts[:10])"
   ]
  },
  {
   "cell_type": "code",
   "execution_count": null,
   "metadata": {},
   "outputs": [],
   "source": [
    "import torch\n",
    "from transformers import AutoTokenizer, GPTNeoModel\n",
    "\n",
    "def extract_embeddings(text, model, tokenizer):\n",
    "    inputs = tokenizer(text, return_tensors=\"pt\", truncation=True, padding=False)\n",
    "    with torch.no_grad():\n",
    "        outputs = model(**inputs, output_hidden_states=True)\n",
    "    return outputs.hidden_states[-1].mean(axis=(0, 1))\n",
    "\n",
    "\n",
    "# Load pre-trained model and tokenizer from Hugging Face\n",
    "tokenizer = AutoTokenizer.from_pretrained(\"EleutherAI/gpt-neo-125m\")\n",
    "model = GPTNeoModel.from_pretrained(\"EleutherAI/gpt-neo-125m\")\n",
    "model.eval()\n",
    "\n",
    "embeddings = []\n",
    "for x in fw:\n",
    "    embeddings.append(extract_embeddings(x[\"text\"], model, tokenizer))\n",
    "    if len(embeddings) > n_stream: break"
   ]
  },
  {
   "cell_type": "code",
   "execution_count": 15,
   "metadata": {},
   "outputs": [],
   "source": [
    "import numpy as np\n",
    "\n",
    "def threshold(x, lambd, clamp=True):\n",
    "    x_ = np.sign(x) * np.maximum(np.abs(x) - lambd, 0)\n",
    "    if clamp:\n",
    "        x_[x_ < 0] = 0\n",
    "    return x_\n",
    "\n",
    "def alpha_update(X, D, alpha, lambd, max_iter=20):\n",
    "    L = np.linalg.norm(D, ord=2) ** 2\n",
    "    a = np.zeros_like(alpha)\n",
    "    a_ = np.copy(a)\n",
    "    \n",
    "    t = 1\n",
    "    for _ in range(max_iter):\n",
    "        a_prev = np.copy(a)\n",
    "        a = threshold(a_ + (1 / L) * D.T @ (X - D @ a_), lambd / L)\n",
    "        t_new = (1 + np.sqrt(1 + 4 * t ** 2)) / 2\n",
    "        a_ = a + ((t - 1) / t_new) * (a - a_prev)\n",
    "        t = t_new\n",
    "    \n",
    "    return a\n",
    "\n",
    "def dictionary_update(X, a):\n",
    "    return X @ np.linalg.pinv(a)"
   ]
  },
  {
   "cell_type": "code",
   "execution_count": null,
   "metadata": {},
   "outputs": [],
   "source": [
    "# Example usage\n",
    "K = 50\n",
    "#X = torch.stack(embeddings).numpy().T\n",
    "N, D = embeddings.shape\n",
    "Phi = np.random.randn(D, K)  # Initial dictionary\n",
    "alpha = np.random.randn(K, N)  # Initial sparse codes\n",
    "l = 0.5  # Regularization parameter\n",
    "\n",
    "# Perform dictionary learning\n",
    "for i in range(10):\n",
    "    alpha = alpha_update(X, Phi, alpha, l)\n",
    "    Phi = dictionary_update(X, alpha)\n",
    "    print(i)"
   ]
  },
  {
   "cell_type": "code",
   "execution_count": null,
   "metadata": {},
   "outputs": [],
   "source": [
    "top_10_indices = np.argsort(alpha[23, :])[-10:][::-1]\n",
    "[texts[i] for i in top_10_indices]"
   ]
  },
  {
   "cell_type": "code",
   "execution_count": null,
   "metadata": {},
   "outputs": [],
   "source": []
  }
 ],
 "metadata": {
  "kernelspec": {
   "display_name": "iisa312",
   "language": "python",
   "name": "python3"
  },
  "language_info": {
   "codemirror_mode": {
    "name": "ipython",
    "version": 3
   },
   "file_extension": ".py",
   "mimetype": "text/x-python",
   "name": "python",
   "nbconvert_exporter": "python",
   "pygments_lexer": "ipython3",
   "version": "3.12.8"
  }
 },
 "nbformat": 4,
 "nbformat_minor": 2
}
