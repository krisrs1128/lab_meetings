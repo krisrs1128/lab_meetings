{
 "cells": [
  {
   "cell_type": "code",
   "execution_count": 1,
   "metadata": {},
   "outputs": [],
   "source": [
    "from torchvision import transforms\n",
    "import glob\n",
    "import pathlib\n",
    "import torch\n",
    "import torch.utils.data as dt\n",
    "import torchvision"
   ]
  },
  {
   "cell_type": "code",
   "execution_count": null,
   "metadata": {},
   "outputs": [],
   "source": [
    "import numpy as np\n",
    "\n",
    "def soft_thresholding(x, lambd):\n",
    "    return np.sign(x) * np.maximum(np.abs(x) - lambd, 0)\n",
    "\n",
    "def fista_update(X, D, alpha, lambd, max_iter=100):\n",
    "    L = np.linalg.norm(D, ord=2) ** 2\n",
    "    t = 1\n",
    "    Z = np.zeros_like(alpha)\n",
    "    Y = np.copy(Z)\n",
    "    \n",
    "    for _ in range(max_iter):\n",
    "        Z_old = np.copy(Z)\n",
    "        Z = soft_thresholding(Y + (1 / L) * D.T @ (X - D @ Y), lambd / L)\n",
    "        t_new = (1 + np.sqrt(1 + 4 * t ** 2)) / 2\n",
    "        Y = Z + ((t - 1) / t_new) * (Z - Z_old)\n",
    "        t = t_new\n",
    "    \n",
    "    return Z\n",
    "\n",
    "def dictionary_update(X, Z):\n",
    "    return X @ np.linalg.pinv(Z)\n",
    "\n",
    "# Example usage\n",
    "np.random.seed(0)\n",
    "X = np.random.randn(100, 50)  # Data matrix\n",
    "D = np.random.randn(100, 30)  # Initial dictionary\n",
    "alpha = np.random.randn(30, 50)  # Initial sparse codes\n",
    "lambd = 0.1  # Regularization parameter\n",
    "\n",
    "# Perform dictionary learning\n",
    "for _ in range(10):\n",
    "    alpha = fista_update(X, D, alpha, lambd)\n",
    "    D = dictionary_update(X, alpha)\n",
    "\n",
    "print(\"Learned dictionary:\", D)\n",
    "print(\"Sparse codes:\", alpha)"
   ]
  },
  {
   "cell_type": "code",
   "execution_count": 3,
   "metadata": {},
   "outputs": [],
   "source": [
    "from datasets import load_dataset\n",
    "fw = load_dataset(\"HuggingFaceFW/fineweb-edu\", name=\"CC-MAIN-2024-10\", split=\"train\", streaming=True)"
   ]
  },
  {
   "cell_type": "code",
   "execution_count": null,
   "metadata": {},
   "outputs": [],
   "source": [
    "i = 0\n",
    "for x in fw:\n",
    "    print(x)\n",
    "    i += 1\n",
    "    if i > 20:\n",
    "        break"
   ]
  },
  {
   "cell_type": "code",
   "execution_count": 5,
   "metadata": {},
   "outputs": [],
   "source": [
    "from transformers import BertModel\n",
    "\n",
    "model = BertModel.from_pretrained(\"bert-base-uncased\", torch_dtype=torch.float16, attn_implementation=\"sdpa\")"
   ]
  },
  {
   "cell_type": "code",
   "execution_count": null,
   "metadata": {},
   "outputs": [],
   "source": [
    "# # Function to extract activations from the BERT model\n",
    "# def extract_activations(text, model, tokenizer):\n",
    "#     inputs = tokenizer(text, return_tensors=\"pt\", truncation=True, padding=True)\n",
    "#     with torch.no_grad():\n",
    "#         outputs = model(**inputs)\n",
    "#     return outputs.last_hidden_state\n",
    "\n",
    "# # Extract activations for the first 10 entries\n",
    "# activations = []\n",
    "# for i, entry in enumerate(fw):\n",
    "#     if i >= 10:\n",
    "#         break\n",
    "#     text = entry['text']  # Assuming the dataset has a 'text' field\n",
    "#     activation = extract_activations(text, model, tokenizer)\n",
    "#     activations.append(activation)\n",
    "\n",
    "# # Print the activations\n",
    "# for i, activation in enumerate(activations):\n",
    "#     print(f\"Entry {i} activations: {activation}\")"
   ]
  },
  {
   "cell_type": "code",
   "execution_count": null,
   "metadata": {},
   "outputs": [],
   "source": [
    "import torch\n",
    "from transformers import AutoTokenizer, BloomModel\n",
    "\n",
    "# Load pre-trained model and tokenizer from Hugging Face\n",
    "tokenizer = AutoTokenizer.from_pretrained(\"bigscience/bloom-560m\")\n",
    "model = BloomModel.from_pretrained(\"bigscience/bloom-560m\")\n",
    "model.eval()\n",
    "\n",
    "def extract_embeddings(text, model, tokenizer):\n",
    "    inputs = tokenizer(text, return_tensors=\"pt\", truncation=True, padding=True)\n",
    "    with torch.no_grad():\n",
    "        outputs = model(**inputs, output_hidden_states=True).mean(axis=(0, 1))\n",
    "    return outputs\n",
    "\n",
    "# Example usage with the streaming dataset\n",
    "for x in fw:\n",
    "    text = x['text']  # Assuming the dataset has a 'text' field\n",
    "    embeddings = extract_embeddings(text, model, tokenizer)\n",
    "    for i, layer_embedding in enumerate(embeddings):\n",
    "        print(f\"Layer {i} embeddings: {layer_embedding}\")\n",
    "\n",
    "    break  # Remove this break to process the entire dataset"
   ]
  }
 ],
 "metadata": {
  "kernelspec": {
   "display_name": "iisa312",
   "language": "python",
   "name": "python3"
  },
  "language_info": {
   "codemirror_mode": {
    "name": "ipython",
    "version": 3
   },
   "file_extension": ".py",
   "mimetype": "text/x-python",
   "name": "python",
   "nbconvert_exporter": "python",
   "pygments_lexer": "ipython3",
   "version": "3.12.8"
  }
 },
 "nbformat": 4,
 "nbformat_minor": 2
}
