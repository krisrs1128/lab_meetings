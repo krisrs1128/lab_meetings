{
 "cells": [
  {
   "cell_type": "code",
   "execution_count": 1,
   "metadata": {},
   "outputs": [],
   "source": [
    "import lightgbm as lgb\n",
    "import shap"
   ]
  },
  {
   "cell_type": "code",
   "execution_count": null,
   "metadata": {},
   "outputs": [],
   "source": [
    "X, y = shap.datasets.adult()\n",
    "data = lgb.Dataset(X, y)\n",
    "model = lgb.train({\"learning_rate\": 0.05}, data, 1000)"
   ]
  },
  {
   "cell_type": "code",
   "execution_count": null,
   "metadata": {},
   "outputs": [],
   "source": [
    "x_sample = shap.sample(X, 50)\n",
    "explainer = shap.KernelExplainer(model.predict, x_sample)\n",
    "shap_values = explainer.shap_values(x_sample)"
   ]
  },
  {
   "cell_type": "code",
   "execution_count": null,
   "metadata": {},
   "outputs": [],
   "source": [
    "ix = 2\n",
    "\n",
    "shap.initjs()\n",
    "shap.force_plot(explainer.expected_value, shap_values[ix, :], x_sample.iloc[ix, :])"
   ]
  },
  {
   "cell_type": "code",
   "execution_count": null,
   "metadata": {},
   "outputs": [],
   "source": [
    "y_hat = model.predict(x_sample)\n",
    "print(y_hat[ix])\n",
    "print(y_hat.mean() + sum(shap_values[ix]))"
   ]
  },
  {
   "cell_type": "code",
   "execution_count": null,
   "metadata": {},
   "outputs": [],
   "source": [
    "shap.force_plot(explainer.expected_value, shap_values, X)"
   ]
  },
  {
   "cell_type": "raw",
   "metadata": {
    "vscode": {
     "languageId": "raw"
    }
   },
   "source": [
    "conda create -n environment-iisa312.yaml\n",
    "conda create -n environment-iisa310.yaml"
   ]
  }
 ],
 "metadata": {
  "kernelspec": {
   "display_name": "iisa",
   "language": "python",
   "name": "python3"
  },
  "language_info": {
   "codemirror_mode": {
    "name": "ipython",
    "version": 3
   },
   "file_extension": ".py",
   "mimetype": "text/x-python",
   "name": "python",
   "nbconvert_exporter": "python",
   "pygments_lexer": "ipython3",
   "version": "3.12.8"
  }
 },
 "nbformat": 4,
 "nbformat_minor": 2
}
