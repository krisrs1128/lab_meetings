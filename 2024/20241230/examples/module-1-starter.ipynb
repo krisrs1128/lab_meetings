{
 "cells": [
  {
   "cell_type": "markdown",
   "metadata": {},
   "source": [
    "## Module 1: Explaining Prediction"
   ]
  },
  {
   "cell_type": "markdown",
   "metadata": {},
   "source": [
    "This demo gives an example of using Shapley values to explain sample-level,\n",
    "local predictions. Given a classifier and a specific sample, we will investigate\n",
    "which features are most relevant for making the final classification.  Our\n",
    "example comes from the original Lundberg and Lee paper, and it is also the main\n",
    "demo from the `shap` package. \n",
    "\n",
    "\n",
    "To run this code, you will need to install the `shap` and `lightgbm` packages. These are included in the iisa310 conda environment defined in this [yaml file](https://github.com/krisrs1128/talks/blob/master/2024/20241230/examples/environment-iisa310.yaml). If you use conda, you can download this file and run\n",
    "```\n",
    "conda env create -yf environment-iisa310.yaml\n",
    "```\n",
    "to install all the needed packages, though you can of course also install them\n",
    "all manually."
   ]
  },
  {
   "cell_type": "code",
   "execution_count": 1,
   "metadata": {},
   "outputs": [],
   "source": [
    "import lightgbm as lgb\n",
    "import shap"
   ]
  },
  {
   "cell_type": "markdown",
   "metadata": {},
   "source": [
    "Specifically, we will analyze the results of a gradient boosting classifier\n",
    "applied to an income prediction problem, available through the `shap` package\n",
    "(and originally from the UCI repository). The classifier aims to see whether\n",
    "income levels can be classified using 12 basic demographic features. Here are\n",
    "the first few rows that will be use in the classifier. There are 32561 people in\n",
    "the dataset overall."
   ]
  },
  {
   "cell_type": "code",
   "execution_count": null,
   "metadata": {},
   "outputs": [],
   "source": [
    "X, y = shap.datasets.adult()\n",
    "X.head()"
   ]
  },
  {
   "cell_type": "markdown",
   "metadata": {},
   "source": [
    "Here is the response, a binary indicator of whether the person in that rows makes more than $50K a year."
   ]
  },
  {
   "cell_type": "code",
   "execution_count": null,
   "metadata": {},
   "outputs": [],
   "source": [
    "y[:5]"
   ]
  },
  {
   "cell_type": "markdown",
   "metadata": {},
   "source": [
    "We can now fit a simple gradient boosting model. These hyperparameters could\n",
    "surely be tuned (and we could use a test set/cross validation to select them),\n",
    "but since our purpose is to understand explanations, we won't worry too much\n",
    "about optimizing performance."
   ]
  },
  {
   "cell_type": "code",
   "execution_count": null,
   "metadata": {},
   "outputs": [],
   "source": [
    "data = lgb.Dataset(X, y)\n",
    "model = lgb.train({\"learning_rate\": 0.05}, data, 1000)"
   ]
  },
  {
   "cell_type": "markdown",
   "metadata": {},
   "source": [
    "The `shap` package uses an object oriented approach, where we first initialize\n",
    "an `explainer` object to generate all the local explanations that we will\n",
    "ultimately work with. The block below uses a `KernelExplainer`, which uses the\n",
    "weighted regression perspective to estimate Shapley values without having to\n",
    "work with all subsets of features. We have chosen to explain just 50 of the\n",
    "original samples so that this runs more quickly. The final output is a 50\n",
    "$\\times$ 12 vector of shap values $\\varphi_{i} \\in \\mathbb{R}^{12}$ giving the\n",
    "attributions for all 50 samples."
   ]
  },
  {
   "cell_type": "code",
   "execution_count": null,
   "metadata": {},
   "outputs": [],
   "source": [
    "x_sample = shap.sample(X, 50)\n",
    "\n",
    "# define a kernel explainer and extract the shapley values\n",
    "explainer = #???\n",
    "shap_values = #???"
   ]
  },
  {
   "cell_type": "markdown",
   "metadata": {},
   "source": [
    "The `shap` package has some great visualization utilities. First, we can make a\n",
    "\"force plot\" describing the attributions for an individual samples.\n",
    "`shap.initjs()` is used to make sure that the visualization will be interactive."
   ]
  },
  {
   "cell_type": "code",
   "execution_count": null,
   "metadata": {},
   "outputs": [],
   "source": [
    "ix = 2 # which sample to explain?\n",
    "shap.initjs()\n",
    "\n",
    "### plot shap values for sample ix"
   ]
  },
  {
   "cell_type": "markdown",
   "metadata": {},
   "source": [
    "One of the properties that makes Shapley values so convenient is that we can\n",
    "exactly recover the original, complex model's predictions using only the\n",
    "original attributions. Positive attributions to a feature mean that it is\n",
    "responsible for the sample having a larger prediction probability than the\n",
    "baseline average (negative has the analogous interpretation)."
   ]
  },
  {
   "cell_type": "code",
   "execution_count": null,
   "metadata": {},
   "outputs": [],
   "source": [
    "y_hat = model.predict(x_sample)\n",
    "print(y_hat[ix])\n",
    "print(y_hat.mean() + sum(shap_values[ix]))"
   ]
  },
  {
   "cell_type": "markdown",
   "metadata": {},
   "source": [
    "We can use the same function to visualize Shpaley values across the entire\n",
    "collection of explained samples. The plot has sorted samples so that those with\n",
    "similar attributions $\\varphi_{i}$ are placed next to one another. This reveals\n",
    "some interesting clustering structure in the explanations. Even though the model\n",
    "is complex, there are groups of samples that have similar predictions for\n",
    "similar reasons."
   ]
  },
  {
   "cell_type": "code",
   "execution_count": null,
   "metadata": {},
   "outputs": [],
   "source": [
    "shap.force_plot(explainer.expected_value, shap_values, X)"
   ]
  },
  {
   "cell_type": "raw",
   "metadata": {
    "vscode": {
     "languageId": "raw"
    }
   },
   "source": []
  }
 ],
 "metadata": {
  "kernelspec": {
   "display_name": "iisa310",
   "language": "python",
   "name": "python3"
  },
  "language_info": {
   "codemirror_mode": {
    "name": "ipython",
    "version": 3
   },
   "file_extension": ".py",
   "mimetype": "text/x-python",
   "name": "python",
   "nbconvert_exporter": "python",
   "pygments_lexer": "ipython3",
   "version": "3.10.13"
  }
 },
 "nbformat": 4,
 "nbformat_minor": 2
}
