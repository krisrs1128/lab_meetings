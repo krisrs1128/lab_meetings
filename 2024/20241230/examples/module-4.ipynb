{
 "cells": [
  {
   "cell_type": "markdown",
   "metadata": {},
   "source": [
    "### Module 3: Explaining Models (Dictionary Learning)\n",
    "\n",
    "In this demo, we'll use dictionary learning to analyze how the final hidden\n",
    "layer of a GPTNeo model organizes articles from the fineweb-edu dataset. This\n",
    "hidden layer is 768-dimensional, but analyzing individual neurons is not an\n",
    "efficient way to work. We will find that looking at the learned dictionary atoms\n",
    "associated with this layer's activations are much more interesting.\n",
    "\n",
    "The libraries below link to data and models in huggingface. They are already\n",
    "included in the iisa312 environment, defined in this [yaml file](https://github.com/krisrs1128/talks/blob/master/2024/20241230/examples/environment-iisa312.yaml)."
   ]
  },
  {
   "cell_type": "code",
   "execution_count": 1,
   "metadata": {},
   "outputs": [],
   "source": [
    "from datasets import load_dataset\n",
    "from transformers import AutoTokenizer, GPTNeoModel\n",
    "import torch\n",
    "import numpy as np\n",
    "np.random.seed(20241230)"
   ]
  },
  {
   "cell_type": "markdown",
   "metadata": {},
   "source": [
    "The command below defines a data loader for the\n",
    "[fineweb-edu](https://huggingface.co/datasets/HuggingFaceFW/fineweb-edu)\n",
    "dataset. This is a 7.5TB dataset, so we'll only try working with a streaming\n",
    "version, which allows us to read a few articles at a time (we'll be looking at a\n",
    "tiny fraction of the original data, but it will be enough to see some\n",
    "interesting structure)."
   ]
  },
  {
   "cell_type": "code",
   "execution_count": 2,
   "metadata": {},
   "outputs": [],
   "source": [
    "fw = load_dataset(\"HuggingFaceFW/fineweb-edu\", name=\"CC-MAIN-2024-10\", split=\"train\", streaming=True)"
   ]
  },
  {
   "cell_type": "markdown",
   "metadata": {},
   "source": [
    "Let's save 2500 articles on which to extract activations. This might take ~ 1.5\n",
    "minutes, depending on the speed of the internet connection. You can see the raw\n",
    "text from a few articles below. They are all somewhat academic in style, but\n",
    "they range quite dramatically in the topics they discuss."
   ]
  },
  {
   "cell_type": "code",
   "execution_count": 3,
   "metadata": {},
   "outputs": [
    {
     "data": {
      "text/plain": [
       "['– Computer viruses are parasitic programs which are able to replicate themselves, attach themselves to other executables in the computer, and perform some unwanted and often malicious actions. A virus is not able to spread itself to another computers, some user actions are needed for it to infect a new computer. Downloading and running software from untrusted sources, inserting an USB drive without a previous scan–remember always disable the AutoRun feature for the drives as CD-ROMs, DVD-ROMs– , downloading and running emails or IM attachments even from known persons, can put you in the nasty situation to have an infected computer. Always when you deal with these situations and to prevent computer infections, scan before to run.\\nThe best scanners in my opinion are multi-engine online scanners like virustotal.com or novirusthanks.org. The links of these scanners and many more are on the home page.\\nThe main three features of a virus are :\\n– the replication mechanism search and find other executable files in your computer, check if the files are already infected–it has a special mechanism for that and if the file is clean then append itself to the file. It can append to the front, middle or end of the executable file thus changing the file size. This is also the reason why the number of new created viruses decreased in the last years, the AntiViruses has a very simple mechanism for “checking and compare” the files size –checksums at different period of times and a file bigger in size than at a previous date is a sign of infection.\\nA special category of viruses are “Bacteria” viruses, they replicate themselves so quickly and in a such percentage that the harddisk will run very soon out of free space.\\n– a trigger is designed to activate a task of the virus, as displaying strange messages, deleting files, sending emails, begin the replicate process or whatever the programmer write in his malicious code. The trigger can be a certain date in calendar–formerly know as Time Bombs, the time when some event occur, opening a certain program or other users actions. The trigger is very important for the virus spreading, because once infected the user will notice nothing strange in his computer, and will continue to spread the virus without to suspect anything. Other reason of this delaying of infection symptoms is for viruses to hide its tracks, the user simply does not know when and how it get infected.\\n– the task or “payload” can differ from inoffensive ones like displaying joke messages, to deleting or editing important system files like hosts file , deleting or editing registry entries, sometimes making the computer unbootable.\\nUsing polymorphic engines, the viruses change the “virus signature”–their binary code each time when they infect a new computer making very difficult for AntiViruses to detect them using traditional “signature based” scanners.\\nMacro Viruses can attach themselves to the executable portion of a spreadsheet documents in AutoOpen, AutoClose, AutoExit, or other file macros. The words processors are the most affected by these viruses, so to prevent the computer infections, always perform an AntiVirus scan for documents received as emails attachments, or received by another methods from another computers.\\n– Computer worms are a special category of viruses with a very important feature added : they can spread themselves between computers, without the user interaction, exploiting some networks vulnerabilities or facilities as network shares or remote file executions. It’s recommended by some experts to disable the Windows Remote Assistance feature, seeing this as a possibly vulnerability. Once it infect a computer it looks forward for other computers connected to the network–LAN or Internet continuing to search for possibly victims.\\n– Trojans are malicious executable files, masquerading as beneficial programs and tricking users to run their code. Very often they are embedded into other programs as setup or installers file and shared into the forums or blogs as pirated software(warez), so when the user run the installer of a program, the trojan will run in parallel infecting the computer. It’s a server-client software and once infecting a computer, it gives to the hacker where it connects the full power over the computer.\\nThe hacker can see screenshots of the victims computer, can see the webcam in real time, can download and upload files or run other malware.\\nThey are very trendy in nowdays and deserve a special attention, so a more detailed description of this type of malware will be given in the part 2 of this article.\\n– Spyware is a malicious code able to gather private data from an infected computer and send it to the hacker. The data can be passwords, credit card numbers, login credentials and other private data. They accomplish their mission by using various mechanisms for decrypting passwords previously saved in web-browsers, keyloggers or screenshots. The computer user get infected by spyware in several ways by downloading and running “fake antiviruses” or “registry cleaners” or visiting malicious sites t',\n",
       " 'For those unfamiliar with Cornish, it is classed as a p-Celtic member of the family of Celtic languages, which was once spoken across much of Europe, and is now restricted to the insular world and Brittany: the only surviving languages being Cornish, Welsh and Breton (all p-Celtic), and Manx, Scots Gaelic and Irish (all q-Celtic).\\nThe relationship between these two branches is illustrated by p-Celtic words such as peduar W and their q-Celtic equivalents: cethar [Ir].\\nThe etymology, morphology, syntax and phonology of Cornish and the other Celtic languages ultimately derive from a putative proto-Indo European or proto-Celtic language or family of languages spoken in Britain in pre-history.\\nCornish Onomastics is the study of onomastics (personal name data) and toponymics (place name data) in relation to Cornwall in the Early Medieval Period (350 CE to 1000 CE). These names are almost completely in the Cornish language (the Brittonic used in Cornwall and a relative of Welsh and Breton.\\nSometime before C6 the closely related South-western British and Western British languages started to look less like Gaulish and more like the modern p-Celtic languages, and Cornish, Welsh, Breton and Cumbric (extinct) began taking shape as modern European languages. Cornish and Breton (from South-western British) eventually diverged from each other during the last part of the Early Medieval Period.\\nThere will have been dialectic differences in these regions of Brittonic usage as well as differences in naming practice between them, but the structure and many name elements of Early Cornish personal names broadly follows that of early names found in Britain, Ireland, Gaul and Celt-Iberia. It is these names that have come down (with modification) to Cornish today including well known names such as Arthur, Gerent and Winwaloe.\\nCornish is one of the oldest indigenous languages of Britain, with its roots stretching back thousands of years and to the first settlements of Britain (believed to be the Late Neolithic, when farming was established).',\n",
       " 'Our cultural identity: Experience the culture and heritage of Cyprus Course Description Culture has the power to transform entire societies, strengthen local communities and forge a sense of identity and belonging for\\nOur cultural identity: Experience the culture and heritage of Cyprus\\nCulture has the power to transform entire societies, strengthen local communities and forge a sense of identity and belonging for people of all ages. Youth can act as a bridge between cultures and serve as key agents in promoting peace and intercultural understanding.\\nCulture is defined as the language, beliefs, values, heritage etc. for any society/country and also identifies the people of each country.\\nThis course is addressed to young people and youth workers who want to discover and explore the cultural heritage of Cyprus and its hidden gems that make it a unique part of Europe. During the course you will discover Cyprus’ rich history and culture, explore the traditions and customs of the island and meet the most popular ancient jobs and local products thus offering a magnificent transnational experience. Whatever the season is, Cyprus offers the opportunity to everyone to experience something new, interesting and exciting such as wine making as Cyprus has been a vine-growing and wine-producing country for millennia, or maybe experience the traditional use of ‘roses’ for making a plethora of rose products, or explore the national part of Akamas following one of the many nature trails reaching the turtles, or even getting to know the locals’ habits at the well-known ‘kafenio’ for an intercultural debate.\\nCome to Cyprus explore and enjoy the weather, sandy beaches, mountains, traditional food, culture, people, hospitality and many more!\\n- The importance of cultural-awareness for promoting European values\\n- The Cultural Heritage of Cyprus\\n- Getting to know the ancient wine-growing and wine-producing through the years\\n- Meet the popular wine routes of Cyprus\\n- The green heart of Cyprus – From Troodos mountains to the national part of Akamas\\n- Reflect on urbanisation and re-visit rural life\\n- Gastronomy: taste the local products\\n- Learn the basics of the Greek Language\\nAims in relation to the development of your organisation\\n- Promoting cultural awareness and historical heritage of a European country\\n- Equipping youth with European values of unity and diversity\\n- Empowering youth with civic competences\\n- Enriching language learning\\n- Reflecting on urbanization and sustainable development\\n- Exploring civic and social engagement and participation in non-formal learning activities\\n- Improve the cultural heritage competences of young people and youth workers\\n6 (Monday) 9:00 am - 11 (Saturday) 5:00 pm\\nP, 3 A-D, Πολύβιου Δημητρακόπουλου, Λευκωσία 1090',\n",
       " '“The more you empower kids, the more they can do,” said one Providence actor after working with Rhode Island public school students in the Arts/ Literacy Project, based at Brown University’s education department. The following factors are fundamental to the approach, which links local artists with classroom teachers and students to create performances and boost literacy:\\nLiteracy and Performance Objectives. All the work of the performance unit–writing, reading, theater activities, rehearsals, and performance–aim toward specific and clearly stated literacy and performance objectives (such as those of New Standards and the National Standards for Arts Education).\\nCulminating Performance. All Arts/Literacy units culminate in a student performance in front of an audience including at least students and teachers.\\nReturn to Text. At various points during the unit, Arts/Literacy classrooms return to the original text to deepen student comprehension or writing development and to evaluate literacy learning.\\nTeachers and Artists as Collaborators. The teaching team of teacher and artist co-plan and co-teach the unit, actively facilitating daily classroom activities.\\nStudents as Artists. Performances draw on students’ skills, knowledge, and culture in a student-centered environment where the students become actors, writers, and directors.\\nExperience Live Theater. Visiting professional theater performances inspires the students to set a high standard for their own performances. It also creates a common theater language and experience for the teacher, artist, and student, providing a glimpse into the vocation and culture of the professional artist.\\nReflective Practice. Teachers, artists, and students reflect on their own teaching and learning on both a daily and a unit level and discuss ways to improve their work.\\nFor more information, contact the Arts/Literacy Project at (401) 863-7785 (401) 863-7785 or on the Web at www.artslit.org.',\n",
       " 'Mixed Progress Against Cancers in Teens, Young Adults\\nWEDNESDAY, July 28, 2021 (HealthDay News) -- There\\'s some encouraging news for U.S. teens and young adults with cancer.\\nSurvival rates have improved for several types of cancer, though gains have been limited for some common kinds, according to a long-term study published online July 26 in the journal Cancer.\\nThe researchers used a wealth of accumulated data \"to piece together a larger part of the cancer survival story for the adolescent and young adult population in the United States,\" said lead author Denise Riedel Lewis, a researcher at the U.S. National Cancer Institute.\\n\"These results will help refocus our research efforts on adolescent and young adult cancer survivorship,\" Lewis said in a journal news release.\\nFor the study, she and her team analyzed 1975-2016 data on case numbers, deaths and survival rates for nine cancer types in young patients.\\nThey found significant improvements in five-year survival for those with brain and other nervous system tumors; colon and rectal cancer; lung and airway cancer; acute myelogenous leukemia, and Non-Hodgkin lymphoma.\\nThere was, however, limited or no improvement in survival for women with breast, cervical and ovarian cancers, or for patients with bone/joint sarcomas.\\nFive-year survival for female breast cancer rose from 1985 through 2007. Meanwhile, deaths declined from 1986 to 2012 and have increased since 2012.\\nFor cervical cancer, five-year survival remained steady from 1975 through 2011. New cases have declined and death rates flattened out since 2005.\\nResearchers reported a slight rise in five-year survival for ovarian cancer during the full study period. New cases and death rates fell between 1993 and 1996.\\nFive-year survival for bone/joint sarcomas rose between 1975 and 1989 but has leveled off since.\\nThe American Cancer Society has more on teens and cancer.\\nSOURCE: Cancer, news release, July 26, 2021',\n",
       " 'Rhetorical analysis is not for the faint of heart. It’s for teachers and instructors who don’t mind students feeling uncomfortable enough to take a risk. Rhetorical analysis has changed everything for me since I’ve brought these concepts into the classroom.\\nThe activity below is used to simply introduce the concept to students using a news article or a simple short text. Once we begin this conversation, their work gets better, they have more passion for analyzing literature, and they have the words to discuss this in-depth conversation.\\nIf you like this activity, check out more of the assignments on Teacher Pay Teacher and see what else might work for your students.\\nDescription of Rhetorical Appeals Activity:\\nThis worksheet is meant to give you a beginner’s knowledge of how to discuss and identify rhetorical appeals in an expository text. Expository texts are any text that is non-fiction: newspaper articles, informational journals, blogs, magazine articles are just the beginning.\\nNote: At a later time, we can discuss how any types of videos or audio recordings can also be analyzed for rhetoric.\\nAnalyze a newspaper article for rhetoric.\\n- Students will begin to see that any text can be analyzed for rhetoric.\\n- Students will have a beginning knowledge of the meaning of ethos, pathos, and logos.\\n- Print out or find a newspaper article that you are interested in.\\n- Use the printable to discuss or write the answers to each question one by one. Know that each question will have an answer and each answer might be challenging to find. Look beyond the obvious!!\\n- Skip any questions that you are really struggling with and come back to them later.\\n- After you have completed as many questions as possible, go back to the ones you skipped. One that you might struggle with is this: What does the author want you to do with the information? Most likely, he/she wants you to change your opinion on a subject, describe.\\n- Think about some additional questions about the author: What opinion does the author have about the subject? Who is the audience of the article?\\n- Now respond to the article with your opinion: Do you agree or disagree with the author? Explain. Would you recommend or mention this article to someone you know? Who and why?\\nLeave a comment if you downloaded this and completed the activity. Let me know which question you struggled with the most. I do plan to do a short video tutorial on this soon, so any confusion can be answered there if you let me know.\\nCheck out my most popular lesson on writing a Rhetorical Precis on Teacher Pay Teacher Here!\\nGood luck and blessings to you!!',\n",
       " 'Sport plays an important role in the educational process since the TPS when the child’s need for movement is answered by daily activities within the school.\\nTPS and PS practice sport with their teacher during playful sessions.\\nMS and GS children experience several sports during the year in order to develop physical, social and strategic skills. Those learning cycles (swimming, judo, climbing, orienteering race…) last for around 12 sessions and take place outside of the school with professionals. A lot of different domains can be approached with happiness and effectiveness as long as the teaching methods used are adapted to preschoolers.',\n",
       " 'World\\'s first 3D keyhole surgery performed at University of Surrey\\n28 Jan 2011\\nDoctors performed the world\\'s first remote 3D keyhole surgery\\nduring a symposium at the University of Surrey last December.\\nKeyhole surgery reduces the length of hospital stays and\\npost-operative complications. This also means that patients\\nexperience less scarring and pain. 3D keyhole surgery is a\\nstate-of-the-art extension of standard keyhole surgery that uses 3D\\ncameras like those used to make the film \\'Avatar\\'. It puts the\\nsurgeon right inside the patient\\'s body and significantly improves\\nThis surgical breakthrough formed part of a\\nlarge-scale study into operator fatigue using 3D surgical equipment\\nthat arises from a collaboration between surgeons at the Royal\\nSurrey County Hospital and academics at the University of Surrey.\\nAs well as surgical evaluation, cutting-edge research, led by Dr\\nDavid Windridge of the University\\'s Centre for Vision, Speech and\\nSignal Processing, sought to measure the changes in a surgeon\\'s\\nfocus of attention during prolonged operations by incorporating\\neye-tracking and computer-vision technology into the 3D surgical\\nThis research consequently offers a unique\\nopportunity both to improve surgical safety and to further\\nunderstanding of how the human brain functions while performing\\ntasks involving complex hand-eye coordination.\\ncommented: \"By measuring attention while performing operations using\\nstate-of-the-art 3D surgical equipment, this collaboration between\\nsurgeons and academics at the University of Surrey gives us a unique\\nopportunity both to improve surgical safety and also address\\nfar-reaching questions how the human mind focuses attention while\\nperforming complex tasks.\"\\nVideo footage of this project can\\nbe accessed at:',\n",
       " 'The Lodge Pole Pine Christmas tree is a native to the Rocky Mountains in the western in the western United States.\\nHowever, the Lodgepole found greater popularity in the UK as a Christmas tree.\\nLodgepole pine is a species that is native to western North America, as far north as the Yukon and south to Baja California. It ranges east to the Black Hills of South Dakota and west all the way to the Pacific Ocean .It was introduced to the UK in 1855 and growers like its resistance to pests and its ability to grow well on poor wet soils.\\nMature trees grow to 30 metres.\\nTypically available from 4ft to 12ft - this a low needle drop tree.\\nIt forms clean, gradually tapering shafts which were used by Native Americans to make their lodges, hence the name \"lodgepole pine.\" The indigenous peoples of the Pacific Northwest and of California also used different parts of the plant internally and externally as a traditional medicine for various ailments.The gum of shore pine was used medicinally as well as for chewing. Native Americans consumed the inner bark of lodgepole pine to prevent starvation for themselves and their horses\\nSee the photo at right.',\n",
       " 'After the famous earthquake of 1755 that destroyed much of the city and could be felt all across the Mediterranean and much of continental Europe, the people of Lisbon had to rebuild the city. Portugal’s chief minister Sebastia Jose de Carvalho e Mello (1699 – 1782) was particularly influential in modernizing the old city. He conducted a survey among local priests to find out as much as possible about how people experienced the disaster. He also changed the layout of the city significantly.\\nThis map shows Lisbon before the disaster:']"
      ]
     },
     "execution_count": 3,
     "metadata": {},
     "output_type": "execute_result"
    }
   ],
   "source": [
    "n_stream = 2500\n",
    "texts = []\n",
    "for x in fw:\n",
    "    texts.append(x[\"text\"])\n",
    "    if len(texts) > n_stream: break\n",
    "\n",
    "texts[:10]"
   ]
  },
  {
   "cell_type": "markdown",
   "metadata": {},
   "source": [
    "The block below extracts embeddings from the final hidden state\n",
    "(`.hidden_states[-1]`) in a GPTNeo model. Notice that we're averaging the hidden dimension across all tokens in the text. In theory, we could analyze activations within smaller stretches of text, but we are aiming more for simplicity than completeness."
   ]
  },
  {
   "cell_type": "code",
   "execution_count": 4,
   "metadata": {},
   "outputs": [],
   "source": [
    "def extract_embeddings(text, model, tokenizer):\n",
    "    inputs = tokenizer(text, return_tensors=\"pt\", truncation=True, padding=False)\n",
    "    with torch.no_grad():\n",
    "        outputs = model(**inputs, output_hidden_states=True)\n",
    "    return outputs.hidden_states[-1].mean(axis=(0, 1))\n",
    "\n",
    "\n",
    "# Load pre-trained model and tokenizer\n",
    "tokenizer = AutoTokenizer.from_pretrained(\"EleutherAI/gpt-neo-125m\")\n",
    "model = GPTNeoModel.from_pretrained(\"EleutherAI/gpt-neo-125m\")\n",
    "model = model.eval()"
   ]
  },
  {
   "cell_type": "markdown",
   "metadata": {},
   "source": [
    "The block below applies `extract_embeddings` to all the articles we downloaded\n",
    "above. This is relatively fast on a machine with a GPU, but since we're running\n",
    "all the demos on our laptops, it would be quite slow, so I've commented it out.\n",
    "Instead, we'll just download embeddings that I extracted in advance."
   ]
  },
  {
   "cell_type": "raw",
   "metadata": {
    "vscode": {
     "languageId": "raw"
    }
   },
   "source": [
    "embeddings = []\n",
    "for x in fw:\n",
    "    embeddings.append(extract_embeddings(x[\"text\"], model, tokenizer))\n",
    "    if len(embeddings) > n_stream: break\n",
    "\n",
    "with open('embeddings.pkl', 'wb') as f:\n",
    "     pickle.dump(embeddings, f)"
   ]
  },
  {
   "cell_type": "code",
   "execution_count": 5,
   "metadata": {},
   "outputs": [],
   "source": [
    "import pickle\n",
    "\n",
    "with open('embeddings.pkl', 'rb') as f:\n",
    "    embeddings = pickle.load(f)"
   ]
  },
  {
   "cell_type": "markdown",
   "metadata": {},
   "source": [
    "The functions below define the dictionary learning algorithm. We will alternate `alpha_update` with `dictionary_update` to learn the $\\alpha$ and $\\Phi$ parameters, respectively. For `alpha_update`, we are using a standard implementation of fast iterative soft thresholding (this is where the seemingly arbitrary formulas like $1 + \\sqrt{1 + 4t^{2}})$ are coming from). Notice that we are constraining $\\alpha \\succeq 0$ using the `clamp` argument of `threshold`."
   ]
  },
  {
   "cell_type": "code",
   "execution_count": 6,
   "metadata": {},
   "outputs": [],
   "source": [
    "def threshold(x, lambd, clamp=True):\n",
    "    x_ = np.sign(x) * np.maximum(np.abs(x) - lambd, 0)\n",
    "    if clamp:\n",
    "        x_[x_ < 0] = 0\n",
    "    return x_\n",
    "\n",
    "def alpha_update(X, D, alpha, lambd, max_iter=20):\n",
    "    L = np.linalg.norm(D, ord=2) ** 2\n",
    "    a = np.zeros_like(alpha)\n",
    "    a_ = np.copy(a)\n",
    "    \n",
    "    t = 1\n",
    "    for _ in range(max_iter):\n",
    "        a_prev = np.copy(a)\n",
    "        a = threshold(a_ + (1 / L) * D.T @ (X - D @ a_), lambd / L)\n",
    "        t_new = (1 + np.sqrt(1 + 4 * t ** 2)) / 2\n",
    "        a_ = a + ((t - 1) / t_new) * (a - a_prev)\n",
    "        t = t_new\n",
    "    \n",
    "    return a\n",
    "\n",
    "def dictionary_update(X, a):\n",
    "    return X @ np.linalg.pinv(a)"
   ]
  },
  {
   "cell_type": "markdown",
   "metadata": {},
   "source": [
    "Let's run 25 iterations of dictionary learning with $K = 250$."
   ]
  },
  {
   "cell_type": "code",
   "execution_count": 7,
   "metadata": {},
   "outputs": [
    {
     "name": "stderr",
     "output_type": "stream",
     "text": [
      "100%|██████████| 25/25 [00:16<00:00,  1.52it/s]\n"
     ]
    }
   ],
   "source": [
    "from tqdm import tqdm\n",
    "\n",
    "K = 250\n",
    "X = torch.stack(embeddings).numpy().T\n",
    "D, N = X.shape\n",
    "Phi = np.random.randn(D, K)  # Initial dictionary\n",
    "alpha = np.random.rand(K, N)  # Initial sparse codes\n",
    "l = 0.5  # Regularization parameter\n",
    "\n",
    "for i in tqdm(range(25)):\n",
    "    alpha = alpha_update(X, Phi, alpha, l)\n",
    "    Phi = dictionary_update(X, alpha)"
   ]
  },
  {
   "cell_type": "markdown",
   "metadata": {},
   "source": [
    "Finally, we can look at articles that have especially high activations\n",
    "$\\alpha_{i}$ on subsets of articles. For example, it seems the first dictionary\n",
    "atom $\\phi_{1}$ is mainly related to languages."
   ]
  },
  {
   "cell_type": "code",
   "execution_count": 8,
   "metadata": {},
   "outputs": [
    {
     "data": {
      "text/plain": [
       "['Learn How to say Thank you and Sorry in Croatian\\nIn any language it’s important to learn how to say thank you and sorry in Croatian. Find some common phrases in Best Languages to Learn below. Thank you in Croatian is hvala and Sorry in Croatian is Oprostite. Croatian greetings such as thank you and sorry are used in formal situations.\\nGood Morning & Good Night in Croatian\\nWant to wish Good Morning & Good Night in Croatian? The Croatian greetings like “Good Morning” or “Good Night” are useful to impress or catch attention of anyone around you. By using Croatian greetings, we are showing respect to others in a very efficient way. Good Morning in Croatian is dobro jutro and Good Night in Croatian is laku noć. To know more on similar greetings in other languages check Croatian vs Chinese, Croatian vs Spanish, Croatian vs French.\\nBye in Croatian\\nGet to know here what is bye in Croatian. Bye in Croatian language is Doviđenja. In some languages, they say bye and in some they say good-bye.\\nOther Croatian Greetings\\nCroatian greetings help to communicate in different places at various situations. Here are some other Croatian greetings which will be useful while communicating in Croatian.\\n- How are you in Croatian is kako si.\\n- Please in Croatian is molim.\\n- Good Afternoon in Croatian is dobar dan.\\n- Good Night in Croatian is laku noć.\\n- I Love you in Croatian is Volim te.\\n- Excuse me in Croatian is Ispričavam se.',\n",
       " \"Irish is a living, modern language, spoken by many people and communities in Ireland and studied by people all around the globe. I would be doing Irish a great disservice if I were to present it as an ancient tongue used only for ritual or reading ancient texts.\\nHowever, our Grove does use Irish for certain elements of our ritual, as it is the language of the land and of our ancestors. Participants, even those who have no Irish, have often told me that hearing ritual in Irish was a moving or exhilarating experience for them.\\nAs this page develops, I hope to post videos of Irish being used in ritual, and short lessons to help with pronunciation.\\nImbas and Awen As OBOD Druids, we are accustomed to chanting the Awen. Awen is a Welsh term for the poetic inspiration which flows through us in the moments when we are truly connected. The equivalent Irish word is Imbas, and as Irish Druids we sometimes chant Imbas instead of, or as well as, Awen.\\nHere is a short video of myself and Philip Carr-Gomm teaching workshop participants how to chant the Imbas:\\nPaidir an Draoi - The Druid's Prayer Tabhair dúinn a OllSpiorad do chosaint Grant, Oh Great Spirit, your protection Agus i gCosaint Neart And, in protection, strength Agus i Neart Tuiscint And, in strength, understanding Agus i dTuiscint Eolas And, in understanding, knowledge Agus i nEolas Eolas an Chirt And, in knowledge, the knowledge of justice Agus i nEolas an Chirt an grá faoi And, in the knowledge of justice, the love of it Agus i nGrá faoi an grá do na beathaí ar fad And in the love of it, the love of all existences Agus i nGrá do na beathaí ar fad an Grá do OllSpiorad And in the love of all existences, the love of the Great Spirit agus gach maitheas a bhaineann leis And of all goodness. Translated by Eimear Burke Special thanks to Eleanor Cantwell for her support and advice with this translation.\\nThe Directions in Irish\\nFor those wishing to hear how spoken Irish works in ritual, I recommend the following video. It records a ritual held at the sacred site of Uisneach to show Irish solidarity with the water protectors of Standing rock. At 3 mins 30 secs, four priestesses call the four directions in Irish.\\nTaking 3 Breaths with the Land, Sea and Sky\\nIn OBOD ritual, we take 3 breaths at the start of ritual. Here is that segment of the ritual in both English and Irish.\\nCalling for peace\\nWe call for peace, for without peace, no work can be....\",\n",
       " 'The German Genitive\\nDer Genitiv im Deutschen – Erklärungen und Beispiele\\nThe German Genitive – Summary\\nA noun is in the genitive case when it is a attribute of another noun or when it indicates possession. German usually use the question “Wessen?” to determine the genitive element of a sentence.\\n- “Der Hund der Familie liegt hier.”\\n- “Das Auto des Fremden parkt hier.”\\n- “Das Fenster des Hauses ist kaputt.”\\nThere are three types of declension for the genitive, which are indicated by the article and the wordending.\\n- (e)s-Declension(“das Pferd – des Pferdes, der Hund- des Hundes”).\\nNearly all neutral and masculine nouns in genitive are part of this declension. When nouns end with “-s, -ß, -x, -z, -tz” the “e” has to be used.\\n- (e)n-Declension (“der Treue – des Treuen”).\\nEspecially masculine nouns in genitive with the endings “-e, -ant, -ent, -ist” are part of this declension. The “e” is left in nouns ending with “-e, -el, -er” or in nouns ending in vowels.\\n- Declension without endings (“die Frau – der Frau”).\\nHere belong all the female nouns in genitive. In plural, always the article “der” is used and the noun is written as it would be in nominative.\\nWelcome to language-easy.org! Well, as you have clicked on this article, I suppose that you want to know everything about a basic element in German grammar – The German genitive. Of course, most of you have heard of this case, as it also exists in the English language. However, the construction of the forms of German genitive is completely different to the English one. Well, although this German case might be a little bit complicated, you have to be conscious that it is of crucial importance to express possession and other things.\\nIn the following, I’d like to give you a short description of the German genitive and also talk about its correct usage. Furthermore, it is important to mention the special declension of pronouns in the German genitive.\\nBy the way, in case you’d like to have some additional information about German conditional clauses, just have a look at this article on Wikipedia. Hopefully, it will provide you with all the background information that you need.\\nAnd now, let’s not lose too much time and come to the first part of this article and talk about what the German genitive case actually is. Auf geht’s!\\nDescription and Usage of the German Genitive\\nBeschreibung und Anwendung des Gentiiv im Deutschen\\nNow, we come to the first topic of this article about the German genitive. So, I’d like to give you a short description of the German genitive. Please, try to keep this description in mind – it is always useful to know what we are actually talking about.\\nThe German genitive case indicates possession. Whereas in the English language you use an “-‘s” or the preposition “of” to show position, in German you add “-es” or “-er” to dependent possessive pronouns.\\nWell, in German we use the genitive after certain prepositions, verbs and adjectives. Furthermore, we can use the question “wessen” (whose) to find the German genitive case. Unfortunately, asking this question to find the German genitive does not make too much sense to English speakers. So, I’d like to show you some more ways to recognize the German genitive.\\n- First, the German genitive, as already mentioned, indicated possession.\\n“Das ist Philip, mein Bruder.”\\n- Second, it also comes with certain propositions, like “wegen”, “trotz” and “anstelle”.\\n“Wegen Philips Hund, ist mein Strumpf kaputt.”\\n- And third, the German genitive occurs after certain verbs as a genitive object.\\n“Philip freut sich seines Hundes wegen.”\\nSo, after clearing up the basics about the German genitive, let’s come to the next point of this article and talk about the declension of pronouns in the German genitive.\\nThe Declension of Pronouns in the German Genitive\\nDie Deklination von Pronomen im Genitiv\\nNow, we come to another important topic in the context of the German genitive, the declension of pronouns in this grammatical case. Well, keep in mind that we only use dependent possessive pronouns in the genitive case. Furthermore, you should always remind that personal pronouns and independent possessive pronouns cannot be put into the German genitive. So, in the following table I’d like to give you an overview about the mentioned dependent possessive pronouns and their genitive endings.\\nOf course, you can observe clearly the endings “-es” and “-er”, as already mentioned in the short description of the German genitive above.\\nFinally, we have reached the last part of this article where you can prove the German skills you have just learned. In the following you will see some phrases that you should complete with the correct terms. Once you have filled all the gaps, just click on the “correct” button and you can see your errors and the correct results. Good luck and… auf Wiedersehen!',\n",
       " \"Learn how to say the names of many different countries, nationalities and languages in English. Learn how to say the names of many different countries, nationalities and languages in English. Menu. Countries, Nationalities and Languages | Image.\\nAlthough you will easily recognise the names of many countries when written in Spanish because they are mostly similar to the English name, you should watch out for country names that are quite different. Even the familiar names usually have different endings from the English equivalents or maybe accented characters. Learn English Words For Countries and Nationalities Learn and practise recognising English words for countries and nationalities with this online vocabulary lesson for English students of all ages. Includes follow on interactive quizzes and word games. Part of an extensive collection of online vocabulary lessons for teaching and learning esl students at all levels of English. Countries and nationalities - vocabulary exercises Countries and nationalities- interactive vocabulary exercises . Elementary level esl. Learn English online. grammar, listening, reading, songs safe search for kids: sensitive content blocked on this site. Index of contents. Countries . nationalities Intermediate - exercises Advanced - exercises Worksheets - handouts Home.\\nNames of countries and nationalities in English 28.07.2015. The English word “nationality” is not used very often in everyday conversation.It is a more formal word that is more often seen in written form in documents related to immigration or tourism. List of countries | Britannica Afghanistan, landlocked multiethnic country located in the heart of south-central Asia.Lying along important trade routes connecting southern and eastern Asia to Europe and the Middle East, Afghanistan has long been a prize sought by empire builders, and for millennia great armies have attempted to subdue it, leaving traces of… Nationalities - Les nationalités - Lawless French Vocabulary Nationalities. Share / Tweet / Pin Me! Nationalités. Every country and continent has an adjective that can be used to describe people and things from that place. Those same adjectives can also be used as nouns to refer to people from that place, with one small change: Nationalities In Spanish Worksheets & Teaching Resources | TpT\\nThis chart lists the names of most countries in the world. Entries in the [Nationality ] column tell you what word used for a person from that country. Remember that Nationality is a legal relationship between an individual person and a state. Nationality affords In some countries, the cognate word for nationality in local language may be understood as a for Standardization's country list, is not a member of the United Nations, etc. Create a book · Download as PDF · Printable version 12 Nov 2017 I therefore then select from that list. In addition to using the criteria above, I try to present countries which students are likely to want to speak about 28 Jul 2015 List of the Names of Countries, Nationalities, and Languages. Country – Nationality – Language. United Kingdom – British – English; Scotland Free printable PDF lesson plans, word banks, quizzes and games for EFL/ESL teachers & learners Read the nationalities and write the country names.\\nList of countries and nationalities in English. The list covers the countries nationality and the noun for a person from that country. to the words in the box. Listen a chalkboard a country a nationality an eraser a piece of together to brainstorm two lists: a list of hobbies and a list of jobs. Write . Below is a list of countries with the appropriate nationality. The Language that appears is the main language that is spoken in the country. We have not included To be + Nationality I am English. Below you will find a useful chart giving a list of countries, nationalities and the common spoken language(s) in that country. Lesson objective: learn countries and nationalities. New vocabulary: the children call out the matching nationality or country (e.g. Spanish). Repeat to use all lingua house. TM. Innovation in Learning. A A ENGLISH VOCABULARY. Countries and nationalities. Lesson code:\\nOverview of ID and visa provisions according to nationality (Annex CH-1, List 1)* Alphabetical list of countries List in PDF format (print version). In case of\",\n",
       " 'Welcome to the Quranic Arabic Corpus, an annotated linguistic resource which shows the Arabic grammar, syntax and morphology for each word in the Holy Quran. The corpus provides three levels of analysis: morphological annotation, a syntactic treebank and a semantic ontology.\\nThe Quran is a significant religious text written in Quranic Arabic,\\nand is followed by believers of the Islamic faith. The Quran contains\\n6,236 numbered verses (ayāt) and is divided\\ninto 114 chapters.\\nAn example verse from the Quran:\\n(21:30) Have those who disbelieved not considered that the heavens and the earth were a joined entity, and We separated them and made from water every living thing? Then will they not believe?\\n- Version 0.4 Released - new and updated linguistic features in this version of the corpus\\n- Word by Word Quran - maps out the syntax of the entire Quran, with analysis and translation\\n- Quranic Grammar - traditional Arabic grammar (إعراب) illustrated using dependency graphs\\nHow you can get involved\\nThis project contributes to the research of the Quran by applying natural language computing technology to analyze the Arabic text of each verse. The word by word grammar is very accurate, but ensuring complete accuracy is not possible without your help. If you come across a word and you feel that a better analysis could be provided, you can suggest a correction online by clicking on an Arabic word.\\nWorld map of users of the Quranic Arabic\\nCorpus, provided by Google Analytics.\\nCountries with the highest number of users are shaded in darker green.\\nThe map above shows worldwide interest in the Quranic Arabic Corpus. Every day, the website is used by over 2,500 people from 165 different countries. Help us review the information on this website so that together we can build the most accurate linguistic resource for Quranic Arabic.\\nThe Quranic Arabic Dependency Treebank (QADT)\\nThe Quranic treebank is an effort to map out the entire grammar of the Quran by linking Arabic words through dependencies. The linguistic structure of verses is represented using mathematical graph theory. The annotated corpus provides a novel visualization of Quranic syntax using dependency graphs.\\nThe Ontology of Quranic Concepts\\nThe Quranic Ontology uses knowledge representation to define the key concepts in the Quran, and shows the relationships between these concepts using predicate logic. Named entities in verses, such as the names of historic people and places mentioned in the Quran, are linked to concepts in the ontology.',\n",
       " 'In a World Characterized by Increasing Globalization And Cultural Diversity, The Concept Of National Identity Takes On a New Dimension. This Article Delves Into The Intriguing Journey Of ‘Do Nahi Aik Pakistan A Movement That Transcends Borders And Seeks To Redefine What It Means To Be Pakistani. This Unique Phenomenon Challenges Traditional Notions Of National Identity, Opening up New Avenues For Understanding And Unity.\\nThe Genesis of ‘Do Nahi Aik Pakistan’\\n‘Do Nahi Aik Pakistan’ Translates To ‘Two, No, One Pakistan’ and is a revolutionary Idea That Promotes The Unity Of Pakistanis Across Geographical Borders. It Emerged As a Response To The Challenges Faced by The Pakistani Diaspora And Their Connection With Their Homeland.\\nReimagining National Identity\\n1. Embracing Diversity\\nOne Of The Core Principle’s Of ‘Do Nahi Aik Pakistan’ Is The Acceptance Of Diversity Within The Pakistani Community. This Movement Encourages Pakistanis To Acknowledge And Celebrate The Multitude Of Cultures, Languages, And Traditions That Make Up Their Rich Heritage.\\n2. Fostering Inclusivity\\nInclusivity Is At The Heart Of This Movement. It Calls For The Recognition Of All Pakistanis, Whether They Reside Within The National Borders or Overseas. By Embracing a Global Pakistani Identity, The Movement Aims To Foster a Sense Of Belonging That Transcends Physical Boundaries.\\nThe Power of Connection\\n1. Virtual Communities\\nThe Digital Age Has Played a Pivotal Role In The Success Of ‘Do Nahi Aik Pakistan.’ Online Platforms And Social Media Have Allowed Pakistanis From Around The World To Connect, Share Their Experiences, And Engage In Meaningful Dialogue About Their Shared Identity.\\n2. Cultural Exchanges\\nThis Movement Has LeD to An Increase In Cultural Exchanges Between Pakistanis Residing In Different Parts Of The World. Festivals, Events, And Collaborative Projects Have Become More Common, Contributing to a Stronger Sense Of Unity.\\nThe Impact on News and Media\\n1. A New Narrative\\nThe ‘Do Nahi Aik Pakistan’ Movement Has Redefined How News Related To Pakistan Is Reported. It Has Prompted Media Outlets To Focus Not Only On National Events but Also On The Achievements And Experiences Of Pakistanis Worldwide.\\n2. Global Perspective\\nNews Related To Pakistan Is No Longer Confined To it’s Territorial Borders. ‘Do Nahi Aik Pakistan’ Has Expanded The scope, Providing a Global Perspective That Highlights The Contributions Of Pakistanis On An International Stage.\\nThe Road Ahead\\n1. Building Bridges\\nAs ‘Do Nahi Aik Pakistan’ Continues To Gain Momentum, it is Essential To Focus On Building Bridges And Creating Opportunities For Cross-border Collaboration. This Can Lead To a More Cohesive Global Pakistani Community.\\n2. Challenging Stereotypes\\nThis Movement Challenges Stereotypes Associated With Pakistanis And Showcases The Positive Aspects Of Their Culture And Contributions. It Aims To Shift The Narrative From One Of Conflict And Division To Unity And Celebrations\\nBeyond Borders, ‘Do Nahi Aik Pakistan‘ Stands As a Symbol Of The Evolving Nature Of National Identity In Our Interconnected World. It Celebrates Diversity, Foster’s Inclusivity, And Redefines The Way Pakistanis Perceive Themselves And Are Perceived by Others. This Movement Is a Testament To The Power of Unity and Shared Identity.',\n",
       " \"Thursday, 22 February 2024 | 02:42 AM\\nGenerosity and gratitude are two characteristics that go hand in hand. In the materialist world today, where people are running after having the most material or worldly possessions, having someone who could offer something to others to help them out is a big act of generosity. In return, if you do not have anything to offer, making dua for one who has offered you some of his wealth is an act of gratitude.\\nIslam emphasizes sharing and looking out for others. When someone shares their wealth with you, you should return the favor, but when you cannot, acknowledge it with gratitude and show generosity towards the person who is sharing.\\nAbu Hurairah narrated that Prophet Muhammad (ﷺ) said that those who do not thank the people have not thanked Allah (سُبْحَانَهُ وَتَعَالَى) [Sunan Abī Dāwūd 481]. This hadith clearly states that one must not feel entitled but rather be full of gratefulness for the way the people around have helped them in any way.\\nMorning & Evening\\n'Asbahnaa ('Amsaynaa) 'alaa fitratil-'Islaami wa 'alaa kalimatil-'ikhlaasi, wa 'alaa deeni Nabiyyinaa Muhammadin, wa 'alaa millati 'abeenaa 'Ibraaheema, haneefan Musliman wa maa kaana minal-mushrikeen.\\nWe have entered the morning (evening) upon the natural religion of Islam, the word of sincere devotion, the religion of our Prophet Muhammad (peace and blessings of Allah be upon him), and the faith of our father Ibrahim. He was upright (in worshipping Allah), and a Muslim. He was not of those who worship others besides Allah. (Recite in the bracket in the evening.)\\nWhen making dua for one who has offered you some of his wealth, be expressive in your thanks and show gratitude to both Allah (سُبْحَانَهُ وَتَعَالَى) and the person who has been made a way in which Allah (سُبْحَانَهُ وَتَعَالَى) is providing you. Pray for their abundance with the genuine intention that Allah rewards them for their generosity and Allah puts you in a position where you are also able to share to help others. Offer the supplication with humbleness and the intention of reciprocating kindness.\\nThe benefits of making dua for someone who has offered their wealth help both people. It opens a giver's heart to give more and share the good they are blessed with. For the receiver, it allows them to acknowledge the way that Allah (سُبْحَانَهُ وَتَعَالَى) is showing them generosity. It encourages the spirit of being helpful to others and being kind. It fosters bonds of generosity and kindness in the community and instills a feeling of gratitude in people for what they are receiving.\\nWhen someone shares their wealth with you, you pray for the blessing of Allah (سُبْحَانَهُ وَتَعَالَى) on that person, their family, and wealth with the intention of gratitude.\\nOne should pray for a lawful livelihood that benefits them and the community rather than simply asking for abundance in their wealth.\",\n",
       " 'Presentation on theme: \"C ITING Q UOTATIONS MLA Requirements and Examples.\"— Presentation transcript:\\nC ITING Q UOTATIONS MLA Requirements and Examples\\nW HY WE CITE SOURCES High schools and colleges typically follow MLA guidelines for citing research in the language arts and humanities. MLA is the Modern Language Association Requirements can be found online. The best sources is OWL – Purdue University’s Online Writing Lab Noodletools follows MLA style requirements for Works Cited pages and Bibliographies.\\nI N -T EXT C ITATIONS FROM A BOOK S OURCE MLA requires the author’s last name and the page number to be provided in the sentence with the quotation. Notice where the “” marks are and where the () are. Examples from OWL: Wordsworth stated that Romantic poetry was marked by a \"spontaneous overflow of powerful feelings\" (263). Romantic poetry is characterized by the \"spontaneous overflow of powerful feelings\" (Wordsworth 263). Wordsworth extensively explored the role of emotion in the creative process (263).\\nI N -T EXT C ITATIONS FROM A WEB SOURCE MLA requires the use of the first field from the bibliography citation. If there is an author listed, that is the first field. If there is no author, then the first field is typically the title of the article. There is no page # requirement for web documents. Avoid using the URL in the text of a paragraph. Example from OWL: During the presentation, Jane Yates stated that invention and pre-writing are areas of rhetoric that need more attention. This example directs the reader to look for this author’s name on the Works Cited page at the end of the paper. Note: It is always fine to add another field as well, like the author and the article title, for clarity.\\nM IXING SOURCES – HOW MUCH TO CITE ? Within 1 paragraph, a source must only be cited once. For example, in a paragraph about your book, you will have 2 quotes. Each will have a different page number in () at the end, but you only need to identify the author the first time you quote the book. (Unless you have another source mentioned that comes between the 2 book quotes.) Use good transition words to connect sentences that are from the same source: Example: Later in the book… If you identify 2 different sources in one paragraph, each must be completely cited.\\nW HEN I N D OUBT – LOOK IT UP OR ASK! T HERE ARE MANY PLACES TO FIND THE ANSWER TO CITATION QUESTIONS. T HIS IS AN EXPECTATION THROUGHOUT HIGH SCHOOL AND COLLEGE – NOT JUST IN E NGLISH CLASS. HAPPY RESEARCHING!!',\n",
       " 'The next step after learning letters is to learn the correct sequence. Once kids have mastered the letter sequence, they should try writing the letter which comes before. Practicing a missing letter increases confidence in writing. Letter writing also helps kids with improved pencil grip and fine motor skills. Kindergarten missing letter worksheet. Download the worksheet and follow the instructions\\nDownload “Kindergarten Missing Letter Worksheet - What Comes Before”Kindergarten-Lower-Case-Letter-Writing-Worksheet-what-comes-before-1.pdf – Downloaded 589 times – 167.30 KB\\nTime needed: 10 minutes.\\nPractice lower case missing letter worksheet - what comes before\\n- Read the letter and recollect letter sequence\\n- Write the lower case letter which comes before the printed letter\\n- Complete the worksheet by writing all missing letters',\n",
       " 'Part of speech: noun\\nOrigin: French, mid-18th century\\nA summary or abstract of a text or speech.\\nAn outline of main points or facts.\\nExamples of Précis in a sentence\\n\"I read the précis of the required textbook and decided that I didn’t want to take the course.\"\\n\"Before you put pen to paper, it’s helpful to make a précis to guide your writing.\"\\nPrécis is exactly what it looks like — it’s taken from the French word “précis,” which means precise. English has adopted this French adjective and turned it into a noun. A précis is a summary of the main points in a speech or piece of writing. It could be a formal part of a paper, or you could be giving a précis of the TV show you watched last night. Just be precise about your summary.\\nDid you Know?\\nSome words are borrowed from French and we Anglify them — energy, facade, heritage, and hotel have all dropped an accent mark and adjusted pronunciation. But then we pretend to be a little French with some words. Précis has held onto its precise accent mark and French pronunciation: pray-SEE.']"
      ]
     },
     "execution_count": 8,
     "metadata": {},
     "output_type": "execute_result"
    }
   ],
   "source": [
    "top_ix = np.argsort(alpha[0, :])[-10:][::-1]\n",
    "[texts[i] for i in top_ix]"
   ]
  },
  {
   "cell_type": "code",
   "execution_count": null,
   "metadata": {},
   "outputs": [],
   "source": []
  }
 ],
 "metadata": {
  "kernelspec": {
   "display_name": "iisa312",
   "language": "python",
   "name": "python3"
  },
  "language_info": {
   "codemirror_mode": {
    "name": "ipython",
    "version": 3
   },
   "file_extension": ".py",
   "mimetype": "text/x-python",
   "name": "python",
   "nbconvert_exporter": "python",
   "pygments_lexer": "ipython3",
   "version": "3.12.8"
  }
 },
 "nbformat": 4,
 "nbformat_minor": 2
}
